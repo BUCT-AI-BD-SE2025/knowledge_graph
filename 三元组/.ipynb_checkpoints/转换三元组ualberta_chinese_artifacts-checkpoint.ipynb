{
 "cells": [
  {
   "cell_type": "code",
   "execution_count": 12,
   "id": "41280794-5df2-49c0-aeac-d7fab85fd95c",
   "metadata": {},
   "outputs": [
    {
     "name": "stdout",
     "output_type": "stream",
     "text": [
      "✅ 已生成 triples_with_labels.csv，包含目标节点标签信息\n"
     ]
    }
   ],
   "source": [
    "import pandas as pd\n",
    "import csv\n",
    "\n",
    "# 读取原始 CSV 文件\n",
    "df = pd.read_csv('ualberta_chinese_artifacts.csv')\n",
    "\n",
    "# 字段对应的谓语\n",
    "field_map = {\n",
    "    'Accession Number': '编号',\n",
    "    'Artist': '创作者',\n",
    "    'Category': '类别',\n",
    "    'Credit Line': '捐赠来源',\n",
    "    'Culture': '文化',\n",
    "    'Date Made': '制作时间',\n",
    "    'Description': '描述',\n",
    "    'Inscriptions and Colophons': '题跋',\n",
    "    'Materials': '材质',\n",
    "    'Materials Glossary': '材料术语',\n",
    "    'Measurements': '尺寸',\n",
    "    'Object Type': '对象类型',\n",
    "    'Period': '时期',\n",
    "    'Place Made': '制作地点',\n",
    "    'Title': '标题'\n",
    "}\n",
    "\n",
    "# 用于指定每个谓语对应的目标节点标签\n",
    "predicate_to_label = {\n",
    "    '创作者': 'artist',\n",
    "    '类别': 'category',\n",
    "    '捐赠来源': 'donor',\n",
    "    '文化': 'culture',\n",
    "    '制作时间': 'date',\n",
    "    '描述': 'description',\n",
    "    '题跋': 'inscription',\n",
    "    '材质': 'material',\n",
    "    '材料术语': 'glossary',\n",
    "    '尺寸': 'measurement',\n",
    "    '对象类型': 'type',\n",
    "    '时期': 'period',\n",
    "    '制作地点': 'place',\n",
    "    '标题': 'title'\n",
    "}\n",
    "\n",
    "triples = set()\n",
    "\n",
    "for _, row in df.iterrows():\n",
    "    subject = str(row.get('Accession Number', '未知编号')).strip()\n",
    "    for field, predicate in field_map.items():\n",
    "        if field == 'Accession Number':\n",
    "            continue\n",
    "        obj = row.get(field)\n",
    "        if pd.notna(obj):\n",
    "            obj_str = str(obj).strip().replace('\\n', ' ')\n",
    "            if obj_str.lower() in ['unknown', 'date unknown']:\n",
    "                continue\n",
    "            if obj_str:\n",
    "                obj_label = predicate_to_label.get(predicate, 'Entity')\n",
    "                triples.add((subject, predicate, obj_str, obj_label))\n",
    "\n",
    "# 写入增强版 triples CSV\n",
    "with open('triples_with_labels.csv', mode='w', newline='', encoding='utf-8-sig') as f:\n",
    "    writer = csv.writer(f)\n",
    "    writer.writerow(['Subject', 'Predicate', 'Object', 'ObjectLabel'])\n",
    "    writer.writerows(triples)\n",
    "\n",
    "print(\"✅ 已生成 triples_with_labels.csv，包含目标节点标签信息\")\n"
   ]
  }
 ],
 "metadata": {
  "kernelspec": {
   "display_name": "Python 3 (ipykernel)",
   "language": "python",
   "name": "python3"
  },
  "language_info": {
   "codemirror_mode": {
    "name": "ipython",
    "version": 3
   },
   "file_extension": ".py",
   "mimetype": "text/x-python",
   "name": "python",
   "nbconvert_exporter": "python",
   "pygments_lexer": "ipython3",
   "version": "3.10.16"
  }
 },
 "nbformat": 4,
 "nbformat_minor": 5
}
