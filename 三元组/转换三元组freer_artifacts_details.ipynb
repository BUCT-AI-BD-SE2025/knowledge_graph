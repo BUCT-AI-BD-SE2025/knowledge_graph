{
 "cells": [
  {
   "cell_type": "code",
   "execution_count": 2,
   "id": "beea90d5-d408-43b8-8106-0b79e689a71e",
   "metadata": {},
   "outputs": [
    {
     "name": "stdout",
     "output_type": "stream",
     "text": [
      "✅ 已生成 triples_with_labels1.csv，包含目标节点标签信息\n"
     ]
    }
   ],
   "source": [
    "import pandas as pd\n",
    "import csv\n",
    "\n",
    "# 读取原始 CSV 文件\n",
    "df = pd.read_csv('freer_artifacts_details.csv')\n",
    "\n",
    "# 字段对应的谓语\n",
    "field_map = {\n",
    "    'accession_number': '编号',\n",
    "    'artist': '创作者',\n",
    "    'credit_line': '捐赠来源',\n",
    "    'culture': '文化',\n",
    "    'description': '描述',\n",
    "    'medium': '材质',\n",
    "    'dimensions': '尺寸',\n",
    "    'date': '时期',\n",
    "    'title': '标题'\n",
    "}\n",
    "\n",
    "# 用于指定每个谓语对应的目标节点标签\n",
    "predicate_to_label = {\n",
    "    '创作者': 'artist',\n",
    "    '类别': 'category',\n",
    "    '捐赠来源': 'donor',\n",
    "    '文化': 'culture',\n",
    "    '制作时间': 'date',\n",
    "    '描述': 'description',\n",
    "    '题跋': 'inscription',\n",
    "    '材质': 'material',\n",
    "    '材料术语': 'glossary',\n",
    "    '尺寸': 'measurement',\n",
    "    '对象类型': 'type',\n",
    "    '时期': 'period',\n",
    "    '制作地点': 'place',\n",
    "    '标题': 'title'\n",
    "}\n",
    "\n",
    "triples = set()\n",
    "\n",
    "for _, row in df.iterrows():\n",
    "    subject = str(row.get('accession_number', '未知编号')).strip()\n",
    "    for field, predicate in field_map.items():\n",
    "        if field == 'accession_number':\n",
    "            continue\n",
    "        obj = row.get(field)\n",
    "        if pd.notna(obj):\n",
    "            obj_str = str(obj).strip().replace('\\n', ' ')\n",
    "            if obj_str.lower() in ['unknown', 'date unknown']:\n",
    "                continue\n",
    "            if obj_str:\n",
    "                obj_label = predicate_to_label.get(predicate, 'Entity')\n",
    "                triples.add((subject, predicate, obj_str, obj_label))\n",
    "\n",
    "# 写入增强版 triples CSV\n",
    "with open('triples_with_labels1.csv', mode='w', newline='', encoding='utf-8-sig') as f:\n",
    "    writer = csv.writer(f)\n",
    "    writer.writerow(['Subject', 'Predicate', 'Object', 'ObjectLabel'])\n",
    "    writer.writerows(triples)\n",
    "\n",
    "print(\"✅ 已生成 triples_with_labels1.csv，包含目标节点标签信息\")\n"
   ]
  },
  {
   "cell_type": "code",
   "execution_count": null,
   "id": "91070704-8457-4c9d-918b-5c8497ad579c",
   "metadata": {},
   "outputs": [],
   "source": []
  }
 ],
 "metadata": {
  "kernelspec": {
   "display_name": "Python 3 (ipykernel)",
   "language": "python",
   "name": "python3"
  },
  "language_info": {
   "codemirror_mode": {
    "name": "ipython",
    "version": 3
   },
   "file_extension": ".py",
   "mimetype": "text/x-python",
   "name": "python",
   "nbconvert_exporter": "python",
   "pygments_lexer": "ipython3",
   "version": "3.10.16"
  }
 },
 "nbformat": 4,
 "nbformat_minor": 5
}
